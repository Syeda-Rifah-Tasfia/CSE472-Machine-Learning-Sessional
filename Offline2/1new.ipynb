{
 "cells": [
  {
   "cell_type": "markdown",
   "metadata": {},
   "source": [
    "# Offline 2: Logistic Regression with Bagging and Stacking"
   ]
  },
  {
   "cell_type": "markdown",
   "metadata": {},
   "source": [
    "### Imports"
   ]
  },
  {
   "cell_type": "code",
   "execution_count": 96,
   "metadata": {},
   "outputs": [],
   "source": [
    "import pandas as pd\n",
    "import numpy as np\n",
    "from sklearn.linear_model import LogisticRegression\n",
    "from sklearn.model_selection import train_test_split\n",
    "from sklearn.metrics import accuracy_score, precision_score, recall_score, f1_score, roc_auc_score, average_precision_score\n",
    "from sklearn.preprocessing import StandardScaler, MinMaxScaler\n",
    "\n",
    "#pred flag\n",
    "pred_flag = 0 #no pred columns in dataset"
   ]
  },
  {
   "cell_type": "markdown",
   "metadata": {},
   "source": [
    "### Scaling Function "
   ]
  },
  {
   "cell_type": "code",
   "execution_count": 97,
   "metadata": {},
   "outputs": [],
   "source": [
    "def dataScaler(sl, dataframe):\n",
    "    dataframe_scaled = dataframe.copy()\n",
    "    if sl == 1:\n",
    "        for col in dataframe.columns:\n",
    "            if dataframe[col].dtype == 'int64':\n",
    "                scaler = StandardScaler()\n",
    "                dataframe_scaled[col] = scaler.fit_transform(dataframe[[col]])\n",
    "    elif sl == 2:\n",
    "        for col in dataframe.columns:\n",
    "            if dataframe[col].dtype == 'int64':\n",
    "                scaler = MinMaxScaler()\n",
    "                dataframe_scaled[col] = scaler.fit_transform(dataframe[[col]])\n",
    "\n",
    "    return dataframe_scaled"
   ]
  },
  {
   "cell_type": "markdown",
   "metadata": {},
   "source": [
    "### Preprocessing Dataset3: Credit Card Fraud Detection"
   ]
  },
  {
   "cell_type": "code",
   "execution_count": 98,
   "metadata": {},
   "outputs": [],
   "source": [
    "def DS3():\n",
    "    dataframe = pd.read_csv('creditcard.csv')\n",
    "\n",
    "    pd.set_option('display.max_columns', None)\n",
    "\n",
    "    print(\"Number of missing values IN DS3:\")\n",
    "    dataframe.isnull().sum()\n",
    "\n",
    "    print(\"Number of duplicated rows IN DS3:\")\n",
    "    print(dataframe.duplicated().sum())\n",
    "\n",
    "    #no missing values\n",
    "    #dataframe.fillna(dataframe.mode, inplace=True) #for non-numerical values\n",
    "    #dataframe.dropna(subset=['Class'], inplace=True)\n",
    "\n",
    "    if dataframe.duplicated().sum() > 0:\n",
    "        dataframe.drop_duplicates(inplace=True)\n",
    "\n",
    "    features = dataframe.drop('Class', axis=1)\n",
    "    target = dataframe['Class']\n",
    "\n",
    "    #data scaling\n",
    "    dataframe_scaled = dataScaler(1, features)\n",
    "\n",
    "    # split the data\n",
    "    X_train_and_validation, X_test, y_train_and_validation, y_test = train_test_split(dataframe_scaled, target, test_size=0.2, random_state=42)\n",
    "    \n",
    "    X_train, X_validation, y_train, y_validation = train_test_split(X_train_and_validation, y_train_and_validation, test_size=0.2, random_state=42)\n",
    "    return X_train, X_validation, X_test, y_train, y_validation, y_test\n"
   ]
  },
  {
   "cell_type": "markdown",
   "metadata": {},
   "source": [
    "### Bagging"
   ]
  },
  {
   "cell_type": "code",
   "execution_count": 99,
   "metadata": {},
   "outputs": [],
   "source": [
    "\n",
    "def Bagging(X_train, y_train):\n",
    "    rows = X_train.shape[0]\n",
    "\n",
    "    sampleset = [] \n",
    "    targetset = [] \n",
    "    randset = []\n",
    "\n",
    "    \n",
    "    for i in range(9):\n",
    "        randset.append(np.random.randint(0, rows, rows)) #indices\n",
    "        sampleset.append(X_train.iloc[randset[i]])\n",
    "        targetset.append(y_train.iloc[randset[i]])\n",
    "\n",
    "    \n",
    "    LR = []\n",
    "\n",
    "    for i in range(9):\n",
    "        clf = LogisticRegression(max_iter=100)\n",
    "        clf.fit(sampleset[i], targetset[i])\n",
    "        LR.append(clf)\n",
    "\n",
    "    #print(randset)\n",
    "\n",
    "    return LR\n",
    "\n"
   ]
  },
  {
   "cell_type": "markdown",
   "metadata": {},
   "source": [
    "### Voting Ensemble"
   ]
  },
  {
   "cell_type": "code",
   "execution_count": 38,
   "metadata": {},
   "outputs": [],
   "source": [
    "def Voting(X_test, y_test, LR):\n",
    "    rows = X_test.shape[0]\n",
    "    votingPredictor = []\n",
    "\n",
    "    #reindex X_test\n",
    "    X_test = X_test.reset_index(drop=True)\n",
    "    y_test = y_test.reset_index(drop=True)\n",
    "\n",
    "    for i in range(rows):\n",
    "        voteCount = 0\n",
    "        for j in range(9):\n",
    "            prediction = LR[j].predict(X_test.iloc[[i]])\n",
    "            if prediction == 0:\n",
    "                voteCount += 1\n",
    "        if voteCount >= 5:\n",
    "            votingPredictor.append(0)\n",
    "        else:\n",
    "            votingPredictor.append(1)\n",
    "\n",
    "\n",
    "    return votingPredictor    "
   ]
  },
  {
   "cell_type": "markdown",
   "metadata": {},
   "source": [
    "### Stacking"
   ]
  },
  {
   "cell_type": "code",
   "execution_count": 101,
   "metadata": {},
   "outputs": [],
   "source": [
    "def Stacking(X_validation, y_validation, LR):\n",
    "    y_pred = []\n",
    "\n",
    "    for i in range(9):\n",
    "        y_pred.append(LR[i].predict(X_validation))\n",
    "        \n",
    "    for i in range(9):\n",
    "        X_validation['pred' + str(i)] = y_pred[i]\n",
    "\n",
    "\n",
    "    # #append the predictions to the validation set's features\n",
    "    # X_validation['pred1'] = y_pred[0]\n",
    "    # X_validation['pred2'] = y_pred[1]\n",
    "    # X_validation['pred3'] = y_pred[2]\n",
    "    # X_validation['pred4'] = y_pred[3]\n",
    "    # X_validation['pred5'] = y_pred[4]\n",
    "    # X_validation['pred6'] = y_pred[5]\n",
    "    # X_validation['pred7'] = y_pred[6]\n",
    "    # X_validation['pred8'] = y_pred[7]\n",
    "    # X_validation['pred9'] = y_pred[8]\n",
    "\n",
    "    #print(X_validation)\n",
    "\n",
    "    metaLR = LogisticRegression(max_iter=100)\n",
    "    metaLR.fit(X_validation, y_validation)\n",
    "\n",
    "    return metaLR"
   ]
  },
  {
   "cell_type": "markdown",
   "metadata": {},
   "source": [
    "### Stacking Ensemble"
   ]
  },
  {
   "cell_type": "code",
   "execution_count": 102,
   "metadata": {},
   "outputs": [],
   "source": [
    "def testMetaClassifier(LR, metaLR, X_test):\n",
    "    y_pred = []\n",
    "    y_final_pred = []\n",
    "    for i in range(9):\n",
    "        y_pred = LR[i].predict(X_test)\n",
    "    \n",
    "    for i in range(9):\n",
    "        X_test['pred' + str(i)] = y_pred[i]\n",
    "\n",
    "    global pred_flag\n",
    "    pred_flag = 1\n",
    "\n",
    "    y_final_pred = metaLR.predict(X_test)\n",
    "\n",
    "    return y_final_pred\n",
    "        \n",
    "    \n",
    "    \n"
   ]
  },
  {
   "cell_type": "markdown",
   "metadata": {},
   "source": [
    "### Performance Metrics"
   ]
  },
  {
   "cell_type": "code",
   "execution_count": 103,
   "metadata": {},
   "outputs": [],
   "source": [
    "# def getConfusionMatrix(y_test, y_pred):\n",
    "#     return confusion_matrix(y_test, y_pred)\n",
    "\n",
    "def getScores(y_test, y_pred):\n",
    "    accuracy = accuracy_score(y_test, y_pred)\n",
    "    sensitivity = recall_score(y_test, y_pred)\n",
    "    specificity = recall_score(y_test, y_pred, pos_label=0)\n",
    "    precision = precision_score(y_test, y_pred)\n",
    "    f1 = f1_score(y_test, y_pred)\n",
    "    auroc = roc_auc_score(y_test, y_pred)\n",
    "    aupr = average_precision_score(y_test, y_pred)\n",
    "\n",
    "    return accuracy, sensitivity, specificity, precision, f1, auroc, aupr"
   ]
  },
  {
   "cell_type": "markdown",
   "metadata": {},
   "source": [
    "### Call data preprocessing"
   ]
  },
  {
   "cell_type": "code",
   "execution_count": 104,
   "metadata": {},
   "outputs": [
    {
     "name": "stdout",
     "output_type": "stream",
     "text": [
      "Number of missing values IN DS3:\n",
      "Number of duplicated rows IN DS3:\n",
      "1081\n"
     ]
    }
   ],
   "source": [
    "X_train, X_validation, X_test, y_train, y_validation, y_test = DS3()"
   ]
  },
  {
   "cell_type": "markdown",
   "metadata": {},
   "source": [
    "### Call Bagging"
   ]
  },
  {
   "cell_type": "code",
   "execution_count": 85,
   "metadata": {},
   "outputs": [
    {
     "name": "stderr",
     "output_type": "stream",
     "text": [
      "/home/neha/.local/lib/python3.11/site-packages/sklearn/linear_model/_logistic.py:469: ConvergenceWarning: lbfgs failed to converge (status=1):\n",
      "STOP: TOTAL NO. of ITERATIONS REACHED LIMIT.\n",
      "\n",
      "Increase the number of iterations (max_iter) or scale the data as shown in:\n",
      "    https://scikit-learn.org/stable/modules/preprocessing.html\n",
      "Please also refer to the documentation for alternative solver options:\n",
      "    https://scikit-learn.org/stable/modules/linear_model.html#logistic-regression\n",
      "  n_iter_i = _check_optimize_result(\n",
      "/home/neha/.local/lib/python3.11/site-packages/sklearn/linear_model/_logistic.py:469: ConvergenceWarning: lbfgs failed to converge (status=1):\n",
      "STOP: TOTAL NO. of ITERATIONS REACHED LIMIT.\n",
      "\n",
      "Increase the number of iterations (max_iter) or scale the data as shown in:\n",
      "    https://scikit-learn.org/stable/modules/preprocessing.html\n",
      "Please also refer to the documentation for alternative solver options:\n",
      "    https://scikit-learn.org/stable/modules/linear_model.html#logistic-regression\n",
      "  n_iter_i = _check_optimize_result(\n",
      "/home/neha/.local/lib/python3.11/site-packages/sklearn/linear_model/_logistic.py:469: ConvergenceWarning: lbfgs failed to converge (status=1):\n",
      "STOP: TOTAL NO. of ITERATIONS REACHED LIMIT.\n",
      "\n",
      "Increase the number of iterations (max_iter) or scale the data as shown in:\n",
      "    https://scikit-learn.org/stable/modules/preprocessing.html\n",
      "Please also refer to the documentation for alternative solver options:\n",
      "    https://scikit-learn.org/stable/modules/linear_model.html#logistic-regression\n",
      "  n_iter_i = _check_optimize_result(\n",
      "/home/neha/.local/lib/python3.11/site-packages/sklearn/linear_model/_logistic.py:469: ConvergenceWarning: lbfgs failed to converge (status=1):\n",
      "STOP: TOTAL NO. of ITERATIONS REACHED LIMIT.\n",
      "\n",
      "Increase the number of iterations (max_iter) or scale the data as shown in:\n",
      "    https://scikit-learn.org/stable/modules/preprocessing.html\n",
      "Please also refer to the documentation for alternative solver options:\n",
      "    https://scikit-learn.org/stable/modules/linear_model.html#logistic-regression\n",
      "  n_iter_i = _check_optimize_result(\n",
      "/home/neha/.local/lib/python3.11/site-packages/sklearn/linear_model/_logistic.py:469: ConvergenceWarning: lbfgs failed to converge (status=1):\n",
      "STOP: TOTAL NO. of ITERATIONS REACHED LIMIT.\n",
      "\n",
      "Increase the number of iterations (max_iter) or scale the data as shown in:\n",
      "    https://scikit-learn.org/stable/modules/preprocessing.html\n",
      "Please also refer to the documentation for alternative solver options:\n",
      "    https://scikit-learn.org/stable/modules/linear_model.html#logistic-regression\n",
      "  n_iter_i = _check_optimize_result(\n",
      "/home/neha/.local/lib/python3.11/site-packages/sklearn/linear_model/_logistic.py:469: ConvergenceWarning: lbfgs failed to converge (status=1):\n",
      "STOP: TOTAL NO. of ITERATIONS REACHED LIMIT.\n",
      "\n",
      "Increase the number of iterations (max_iter) or scale the data as shown in:\n",
      "    https://scikit-learn.org/stable/modules/preprocessing.html\n",
      "Please also refer to the documentation for alternative solver options:\n",
      "    https://scikit-learn.org/stable/modules/linear_model.html#logistic-regression\n",
      "  n_iter_i = _check_optimize_result(\n",
      "/home/neha/.local/lib/python3.11/site-packages/sklearn/linear_model/_logistic.py:469: ConvergenceWarning: lbfgs failed to converge (status=1):\n",
      "STOP: TOTAL NO. of ITERATIONS REACHED LIMIT.\n",
      "\n",
      "Increase the number of iterations (max_iter) or scale the data as shown in:\n",
      "    https://scikit-learn.org/stable/modules/preprocessing.html\n",
      "Please also refer to the documentation for alternative solver options:\n",
      "    https://scikit-learn.org/stable/modules/linear_model.html#logistic-regression\n",
      "  n_iter_i = _check_optimize_result(\n",
      "/home/neha/.local/lib/python3.11/site-packages/sklearn/linear_model/_logistic.py:469: ConvergenceWarning: lbfgs failed to converge (status=1):\n",
      "STOP: TOTAL NO. of ITERATIONS REACHED LIMIT.\n",
      "\n",
      "Increase the number of iterations (max_iter) or scale the data as shown in:\n",
      "    https://scikit-learn.org/stable/modules/preprocessing.html\n",
      "Please also refer to the documentation for alternative solver options:\n",
      "    https://scikit-learn.org/stable/modules/linear_model.html#logistic-regression\n",
      "  n_iter_i = _check_optimize_result(\n",
      "/home/neha/.local/lib/python3.11/site-packages/sklearn/linear_model/_logistic.py:469: ConvergenceWarning: lbfgs failed to converge (status=1):\n",
      "STOP: TOTAL NO. of ITERATIONS REACHED LIMIT.\n",
      "\n",
      "Increase the number of iterations (max_iter) or scale the data as shown in:\n",
      "    https://scikit-learn.org/stable/modules/preprocessing.html\n",
      "Please also refer to the documentation for alternative solver options:\n",
      "    https://scikit-learn.org/stable/modules/linear_model.html#logistic-regression\n",
      "  n_iter_i = _check_optimize_result(\n"
     ]
    }
   ],
   "source": [
    "LR = Bagging(X_train, y_train)"
   ]
  },
  {
   "cell_type": "markdown",
   "metadata": {},
   "source": [
    "### Majority Voting and Metrics"
   ]
  },
  {
   "cell_type": "code",
   "execution_count": 44,
   "metadata": {},
   "outputs": [],
   "source": [
    "y_pred = Voting(X_test, y_test, LR)\n",
    "# Xnumpy = X_test.to_numpy()\n",
    "# ynumpy = y_test.to_numpy()\n",
    "\n",
    "# print(Xnumpy)\n",
    "# print(ynumpy)"
   ]
  },
  {
   "cell_type": "code",
   "execution_count": 71,
   "metadata": {},
   "outputs": [
    {
     "name": "stdout",
     "output_type": "stream",
     "text": [
      "Accuracy:  0.9990836358509851\n",
      "Sensitivity:  0.6222222222222222\n",
      "Specificity:  0.9996822931375318\n",
      "Precision:  0.7567567567567568\n",
      "F1:  0.6829268292682927\n",
      "ROC:  0.810952257679877\n",
      "AUPR:  0.4714700320452268\n"
     ]
    }
   ],
   "source": [
    "#get scores\n",
    "accuracy, sensitivity, specificity, precision, f1, auroc, aupr = getScores(y_test, y_pred)\n",
    "\n",
    "print(\"Accuracy: \", accuracy)\n",
    "print(\"Sensitivity: \", sensitivity)\n",
    "print(\"Specificity: \", specificity)\n",
    "print(\"Precision: \", precision)\n",
    "print(\"F1: \", f1)\n",
    "print(\"ROC: \", auroc)\n",
    "print(\"AUPR: \", aupr)\n",
    "\n",
    "# acc = accuracy_score(y_test, y_pred)\n",
    "\n",
    "# print(\"Accuracy: \", acc)\n",
    "# print(X_test.shape[0])\n",
    "# print(y_test.shape[0])\n",
    "# print(len(y_pred))\n",
    "\n",
    "# print(\"test: \")\n",
    "# print(y_test)\n",
    "\n",
    "# print(\"pred: \")\n",
    "# print(y_pred)"
   ]
  },
  {
   "cell_type": "markdown",
   "metadata": {},
   "source": [
    "### Call Stacking"
   ]
  },
  {
   "cell_type": "code",
   "execution_count": 105,
   "metadata": {},
   "outputs": [
    {
     "name": "stderr",
     "output_type": "stream",
     "text": [
      "/home/neha/.local/lib/python3.11/site-packages/sklearn/linear_model/_logistic.py:469: ConvergenceWarning: lbfgs failed to converge (status=1):\n",
      "STOP: TOTAL NO. of ITERATIONS REACHED LIMIT.\n",
      "\n",
      "Increase the number of iterations (max_iter) or scale the data as shown in:\n",
      "    https://scikit-learn.org/stable/modules/preprocessing.html\n",
      "Please also refer to the documentation for alternative solver options:\n",
      "    https://scikit-learn.org/stable/modules/linear_model.html#logistic-regression\n",
      "  n_iter_i = _check_optimize_result(\n"
     ]
    }
   ],
   "source": [
    "metaLR = Stacking(X_validation, y_validation, LR)"
   ]
  },
  {
   "cell_type": "markdown",
   "metadata": {},
   "source": [
    "### Stacking Ensemble Testing and Metrics"
   ]
  },
  {
   "cell_type": "code",
   "execution_count": 106,
   "metadata": {},
   "outputs": [
    {
     "name": "stdout",
     "output_type": "stream",
     "text": [
      "Accuracy:  0.9991365030134283\n",
      "Sensitivity:  0.6111111111111112\n",
      "Specificity:  0.9997528946625247\n",
      "Precision:  0.7971014492753623\n",
      "F1:  0.6918238993710691\n",
      "ROC:  0.8054320028868179\n",
      "AUPR:  0.48773433589678067\n"
     ]
    }
   ],
   "source": [
    "y_final_pred = testMetaClassifier(LR, metaLR, X_test)\n",
    "\n",
    "accuracy, sensitivity, specificity, precision, f1, auroc, aupr = getScores(y_test, y_final_pred)\n",
    "\n",
    "print(\"Accuracy: \", accuracy)\n",
    "print(\"Sensitivity: \", sensitivity)\n",
    "print(\"Specificity: \", specificity)\n",
    "print(\"Precision: \", precision)\n",
    "print(\"F1: \", f1)\n",
    "print(\"ROC: \", auroc)\n",
    "print(\"AUPR: \", aupr)"
   ]
  },
  {
   "cell_type": "markdown",
   "metadata": {},
   "source": [
    "### Build Dataframe for Violin Plots"
   ]
  },
  {
   "cell_type": "code",
   "execution_count": 110,
   "metadata": {},
   "outputs": [
    {
     "data": {
      "text/html": [
       "<div>\n",
       "<style scoped>\n",
       "    .dataframe tbody tr th:only-of-type {\n",
       "        vertical-align: middle;\n",
       "    }\n",
       "\n",
       "    .dataframe tbody tr th {\n",
       "        vertical-align: top;\n",
       "    }\n",
       "\n",
       "    .dataframe thead th {\n",
       "        text-align: right;\n",
       "    }\n",
       "</style>\n",
       "<table border=\"1\" class=\"dataframe\">\n",
       "  <thead>\n",
       "    <tr style=\"text-align: right;\">\n",
       "      <th></th>\n",
       "      <th>Sl</th>\n",
       "      <th>Accuracy</th>\n",
       "      <th>Sensitivity</th>\n",
       "      <th>Specificity</th>\n",
       "      <th>Precision</th>\n",
       "      <th>F1</th>\n",
       "      <th>AUROC</th>\n",
       "      <th>AUPR</th>\n",
       "    </tr>\n",
       "  </thead>\n",
       "  <tbody>\n",
       "    <tr>\n",
       "      <th>0</th>\n",
       "      <td>1.0</td>\n",
       "      <td>0.999048</td>\n",
       "      <td>0.655556</td>\n",
       "      <td>0.999594</td>\n",
       "      <td>0.719512</td>\n",
       "      <td>0.686047</td>\n",
       "      <td>0.827575</td>\n",
       "      <td>0.472227</td>\n",
       "    </tr>\n",
       "    <tr>\n",
       "      <th>1</th>\n",
       "      <td>2.0</td>\n",
       "      <td>0.999066</td>\n",
       "      <td>0.511111</td>\n",
       "      <td>0.999841</td>\n",
       "      <td>0.836364</td>\n",
       "      <td>0.634483</td>\n",
       "      <td>0.755476</td>\n",
       "      <td>0.428250</td>\n",
       "    </tr>\n",
       "    <tr>\n",
       "      <th>2</th>\n",
       "      <td>3.0</td>\n",
       "      <td>0.998960</td>\n",
       "      <td>0.577778</td>\n",
       "      <td>0.999629</td>\n",
       "      <td>0.712329</td>\n",
       "      <td>0.638037</td>\n",
       "      <td>0.788704</td>\n",
       "      <td>0.412237</td>\n",
       "    </tr>\n",
       "    <tr>\n",
       "      <th>3</th>\n",
       "      <td>4.0</td>\n",
       "      <td>0.999048</td>\n",
       "      <td>0.544444</td>\n",
       "      <td>0.999771</td>\n",
       "      <td>0.790323</td>\n",
       "      <td>0.644737</td>\n",
       "      <td>0.772107</td>\n",
       "      <td>0.431009</td>\n",
       "    </tr>\n",
       "    <tr>\n",
       "      <th>4</th>\n",
       "      <td>5.0</td>\n",
       "      <td>0.998978</td>\n",
       "      <td>0.600000</td>\n",
       "      <td>0.999612</td>\n",
       "      <td>0.710526</td>\n",
       "      <td>0.650602</td>\n",
       "      <td>0.799806</td>\n",
       "      <td>0.426950</td>\n",
       "    </tr>\n",
       "    <tr>\n",
       "      <th>5</th>\n",
       "      <td>6.0</td>\n",
       "      <td>0.999101</td>\n",
       "      <td>0.688889</td>\n",
       "      <td>0.999594</td>\n",
       "      <td>0.729412</td>\n",
       "      <td>0.708571</td>\n",
       "      <td>0.844241</td>\n",
       "      <td>0.502977</td>\n",
       "    </tr>\n",
       "    <tr>\n",
       "      <th>6</th>\n",
       "      <td>7.0</td>\n",
       "      <td>0.998996</td>\n",
       "      <td>0.600000</td>\n",
       "      <td>0.999629</td>\n",
       "      <td>0.720000</td>\n",
       "      <td>0.654545</td>\n",
       "      <td>0.799815</td>\n",
       "      <td>0.432634</td>\n",
       "    </tr>\n",
       "    <tr>\n",
       "      <th>7</th>\n",
       "      <td>8.0</td>\n",
       "      <td>0.998943</td>\n",
       "      <td>0.588889</td>\n",
       "      <td>0.999594</td>\n",
       "      <td>0.697368</td>\n",
       "      <td>0.638554</td>\n",
       "      <td>0.794241</td>\n",
       "      <td>0.411325</td>\n",
       "    </tr>\n",
       "    <tr>\n",
       "      <th>8</th>\n",
       "      <td>9.0</td>\n",
       "      <td>0.998943</td>\n",
       "      <td>0.588889</td>\n",
       "      <td>0.999594</td>\n",
       "      <td>0.697368</td>\n",
       "      <td>0.638554</td>\n",
       "      <td>0.794241</td>\n",
       "      <td>0.411325</td>\n",
       "    </tr>\n",
       "  </tbody>\n",
       "</table>\n",
       "</div>"
      ],
      "text/plain": [
       "    Sl  Accuracy  Sensitivity  Specificity  Precision        F1     AUROC  \\\n",
       "0  1.0  0.999048     0.655556     0.999594   0.719512  0.686047  0.827575   \n",
       "1  2.0  0.999066     0.511111     0.999841   0.836364  0.634483  0.755476   \n",
       "2  3.0  0.998960     0.577778     0.999629   0.712329  0.638037  0.788704   \n",
       "3  4.0  0.999048     0.544444     0.999771   0.790323  0.644737  0.772107   \n",
       "4  5.0  0.998978     0.600000     0.999612   0.710526  0.650602  0.799806   \n",
       "5  6.0  0.999101     0.688889     0.999594   0.729412  0.708571  0.844241   \n",
       "6  7.0  0.998996     0.600000     0.999629   0.720000  0.654545  0.799815   \n",
       "7  8.0  0.998943     0.588889     0.999594   0.697368  0.638554  0.794241   \n",
       "8  9.0  0.998943     0.588889     0.999594   0.697368  0.638554  0.794241   \n",
       "\n",
       "       AUPR  \n",
       "0  0.472227  \n",
       "1  0.428250  \n",
       "2  0.412237  \n",
       "3  0.431009  \n",
       "4  0.426950  \n",
       "5  0.502977  \n",
       "6  0.432634  \n",
       "7  0.411325  \n",
       "8  0.411325  "
      ]
     },
     "execution_count": 110,
     "metadata": {},
     "output_type": "execute_result"
    }
   ],
   "source": [
    "#Draw violin plots for each performance metric for the 9 bagging LR learners\n",
    "# Create a dataframe for the 9 bagging LR learners and the metrics\n",
    "\n",
    "metrics = pd.DataFrame(columns=['Sl', 'Accuracy', 'Sensitivity', 'Specificity', 'Precision', 'F1', 'AUROC', 'AUPR'])\n",
    "\n",
    "#print(y_pred)\n",
    "\n",
    "#remove pred0 to pred8 columns\n",
    "if pred_flag == 1:\n",
    "    X_test = X_test.drop(columns=['pred0', 'pred1', 'pred2', 'pred3', 'pred4', 'pred5', 'pred6', 'pred7', 'pred8'])\n",
    "    pred_flag = 0\n",
    "\n",
    "\n",
    "for i in range(9):\n",
    "    y_new = LR[i].predict(X_test)\n",
    "    accuracy, sensitivity, specificity, precision, f1, auroc, aupr = getScores(y_test, y_new)\n",
    "    metrics.loc[i] = [i+1, accuracy, sensitivity, specificity, precision, f1, auroc, aupr]\n",
    "\n",
    "\n",
    "\n",
    "\n",
    "#X_test\n",
    "\n",
    "\n",
    "metrics"
   ]
  },
  {
   "cell_type": "markdown",
   "metadata": {},
   "source": [
    "### Violin Plots"
   ]
  },
  {
   "cell_type": "code",
   "execution_count": 119,
   "metadata": {},
   "outputs": [
    {
     "data": {
      "image/png": "[encoded data removed]",
      "text/plain": [
       "<Figure size 640x480 with 1 Axes>"
      ]
     },
     "metadata": {},
     "output_type": "display_data"
    }
   ],
   "source": [
    "#violin plots from metrics except for Sl\n",
    "\n",
    "import seaborn as sns\n",
    "import matplotlib.pyplot as plt\n",
    "\n",
    "sns.violinplot(data=metrics.iloc[:, 1:], gridsize=300)\n",
    "plt.xlabel('Performance Metrics')\n",
    "plt.ylabel('Value')\n",
    "plt.title('Violin Plots for Performance Metrics for the 9 Bagging LR Learners')\n",
    "plt.show()\n"
   ]
  },
  {
   "cell_type": "code",
   "execution_count": 120,
   "metadata": {},
   "outputs": [
    {
     "data": {
      "text/html": [
       "<div>\n",
       "<style scoped>\n",
       "    .dataframe tbody tr th:only-of-type {\n",
       "        vertical-align: middle;\n",
       "    }\n",
       "\n",
       "    .dataframe tbody tr th {\n",
       "        vertical-align: top;\n",
       "    }\n",
       "\n",
       "    .dataframe thead th {\n",
       "        text-align: right;\n",
       "    }\n",
       "</style>\n",
       "<table border=\"1\" class=\"dataframe\">\n",
       "  <thead>\n",
       "    <tr style=\"text-align: right;\">\n",
       "      <th></th>\n",
       "      <th>Sl</th>\n",
       "      <th>Accuracy</th>\n",
       "      <th>Sensitivity</th>\n",
       "      <th>Specificity</th>\n",
       "      <th>Precision</th>\n",
       "      <th>F1</th>\n",
       "      <th>AUROC</th>\n",
       "      <th>AUPR</th>\n",
       "    </tr>\n",
       "  </thead>\n",
       "  <tbody>\n",
       "    <tr>\n",
       "      <th>count</th>\n",
       "      <td>9.000000</td>\n",
       "      <td>9.000000</td>\n",
       "      <td>9.000000</td>\n",
       "      <td>9.000000</td>\n",
       "      <td>9.000000</td>\n",
       "      <td>9.000000</td>\n",
       "      <td>9.000000</td>\n",
       "      <td>9.000000</td>\n",
       "    </tr>\n",
       "    <tr>\n",
       "      <th>mean</th>\n",
       "      <td>5.000000</td>\n",
       "      <td>0.999009</td>\n",
       "      <td>0.595062</td>\n",
       "      <td>0.999651</td>\n",
       "      <td>0.734800</td>\n",
       "      <td>0.654903</td>\n",
       "      <td>0.797356</td>\n",
       "      <td>0.436548</td>\n",
       "    </tr>\n",
       "    <tr>\n",
       "      <th>std</th>\n",
       "      <td>2.738613</td>\n",
       "      <td>0.000058</td>\n",
       "      <td>0.053029</td>\n",
       "      <td>0.000091</td>\n",
       "      <td>0.047138</td>\n",
       "      <td>0.025515</td>\n",
       "      <td>0.026479</td>\n",
       "      <td>0.031137</td>\n",
       "    </tr>\n",
       "    <tr>\n",
       "      <th>min</th>\n",
       "      <td>1.000000</td>\n",
       "      <td>0.998943</td>\n",
       "      <td>0.511111</td>\n",
       "      <td>0.999594</td>\n",
       "      <td>0.697368</td>\n",
       "      <td>0.634483</td>\n",
       "      <td>0.755476</td>\n",
       "      <td>0.411325</td>\n",
       "    </tr>\n",
       "    <tr>\n",
       "      <th>25%</th>\n",
       "      <td>3.000000</td>\n",
       "      <td>0.998960</td>\n",
       "      <td>0.577778</td>\n",
       "      <td>0.999594</td>\n",
       "      <td>0.710526</td>\n",
       "      <td>0.638554</td>\n",
       "      <td>0.788704</td>\n",
       "      <td>0.412237</td>\n",
       "    </tr>\n",
       "    <tr>\n",
       "      <th>50%</th>\n",
       "      <td>5.000000</td>\n",
       "      <td>0.998996</td>\n",
       "      <td>0.588889</td>\n",
       "      <td>0.999612</td>\n",
       "      <td>0.719512</td>\n",
       "      <td>0.644737</td>\n",
       "      <td>0.794241</td>\n",
       "      <td>0.428250</td>\n",
       "    </tr>\n",
       "    <tr>\n",
       "      <th>75%</th>\n",
       "      <td>7.000000</td>\n",
       "      <td>0.999048</td>\n",
       "      <td>0.600000</td>\n",
       "      <td>0.999629</td>\n",
       "      <td>0.729412</td>\n",
       "      <td>0.654545</td>\n",
       "      <td>0.799815</td>\n",
       "      <td>0.432634</td>\n",
       "    </tr>\n",
       "    <tr>\n",
       "      <th>max</th>\n",
       "      <td>9.000000</td>\n",
       "      <td>0.999101</td>\n",
       "      <td>0.688889</td>\n",
       "      <td>0.999841</td>\n",
       "      <td>0.836364</td>\n",
       "      <td>0.708571</td>\n",
       "      <td>0.844241</td>\n",
       "      <td>0.502977</td>\n",
       "    </tr>\n",
       "  </tbody>\n",
       "</table>\n",
       "</div>"
      ],
      "text/plain": [
       "             Sl  Accuracy  Sensitivity  Specificity  Precision        F1  \\\n",
       "count  9.000000  9.000000     9.000000     9.000000   9.000000  9.000000   \n",
       "mean   5.000000  0.999009     0.595062     0.999651   0.734800  0.654903   \n",
       "std    2.738613  0.000058     0.053029     0.000091   0.047138  0.025515   \n",
       "min    1.000000  0.998943     0.511111     0.999594   0.697368  0.634483   \n",
       "25%    3.000000  0.998960     0.577778     0.999594   0.710526  0.638554   \n",
       "50%    5.000000  0.998996     0.588889     0.999612   0.719512  0.644737   \n",
       "75%    7.000000  0.999048     0.600000     0.999629   0.729412  0.654545   \n",
       "max    9.000000  0.999101     0.688889     0.999841   0.836364  0.708571   \n",
       "\n",
       "          AUROC      AUPR  \n",
       "count  9.000000  9.000000  \n",
       "mean   0.797356  0.436548  \n",
       "std    0.026479  0.031137  \n",
       "min    0.755476  0.411325  \n",
       "25%    0.788704  0.412237  \n",
       "50%    0.794241  0.428250  \n",
       "75%    0.799815  0.432634  \n",
       "max    0.844241  0.502977  "
      ]
     },
     "execution_count": 120,
     "metadata": {},
     "output_type": "execute_result"
    }
   ],
   "source": [
    "metrics.describe()"
   ]
  },
  {
   "cell_type": "code",
   "execution_count": null,
   "metadata": {},
   "outputs": [],
   "source": []
  }
 ],
 "metadata": {
  "kernelspec": {
   "display_name": "Python 3",
   "language": "python",
   "name": "python3"
  },
  "language_info": {
   "codemirror_mode": {
    "name": "ipython",
    "version": 3
   },
   "file_extension": ".py",
   "mimetype": "text/x-python",
   "name": "python",
   "nbconvert_exporter": "python",
   "pygments_lexer": "ipython3",
   "version": "3.11.2"
  }
 },
 "nbformat": 4,
 "nbformat_minor": 2
}
