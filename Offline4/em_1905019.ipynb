{
 "cells": [
  {
   "cell_type": "markdown",
   "metadata": {},
   "source": [
    "## EM Algorithm"
   ]
  },
  {
   "cell_type": "code",
   "execution_count": 107,
   "metadata": {},
   "outputs": [],
   "source": [
    "import numpy as np\n",
    "import math"
   ]
  },
  {
   "cell_type": "code",
   "execution_count": 108,
   "metadata": {},
   "outputs": [
    {
     "name": "stdout",
     "output_type": "stream",
     "text": [
      "(1000,)\n"
     ]
    }
   ],
   "source": [
    "new_data = np.loadtxt('em_data.txt')\n",
    "print(new_data.shape)"
   ]
  },
  {
   "cell_type": "code",
   "execution_count": 109,
   "metadata": {},
   "outputs": [
    {
     "name": "stdout",
     "output_type": "stream",
     "text": [
      "13.797\n",
      "-6.202999999999999\n"
     ]
    }
   ],
   "source": [
    "#Initialize params\n",
    "\n",
    "n = new_data.shape[0]\n",
    "p_fp = 0.5\n",
    "lambda1 = np.mean(new_data) + 10\n",
    "lambda2 = np.mean(new_data) - 10\n",
    "\n",
    "print(lambda1)\n",
    "print(lambda2)\n",
    "\n",
    "max_it = 1000\n",
    "threshold = 1.0e-6\n",
    "log_likelihood = None"
   ]
  },
  {
   "cell_type": "code",
   "execution_count": 110,
   "metadata": {},
   "outputs": [],
   "source": [
    "def poisson_dist(x, lambda_i):\n",
    "    pow = lambda_i ** x\n",
    "    expo = np.exp(-lambda_i)\n",
    "    fact = math.factorial(int(x))\n",
    "    return pow * expo / fact\n",
    "\n",
    "def calc_log_likelihood(data, lambda1, lambda2, p_fp):   \n",
    "    log_likelihood = 0\n",
    "    for i in range(data.shape[0]):\n",
    "        temp1 = p_fp * poisson_dist(data[i], lambda1)\n",
    "        temp2 = (1 - p_fp) * poisson_dist(data[i], lambda2)\n",
    "\n",
    "        log_likelihood += np.log(temp1 + temp2)\n",
    "    return log_likelihood"
   ]
  },
  {
   "cell_type": "code",
   "execution_count": 111,
   "metadata": {},
   "outputs": [],
   "source": [
    "def em_algo(data, lambda1, lambda2, p_fp, log_likelihood, max_it, threshold, epsilon):\n",
    "    it_actual = 0\n",
    "    for it in range(max_it):\n",
    "        # print(\"Iteration: \", it)\n",
    "        it_actual += 1\n",
    "        #E-step\n",
    "        p_lambda1_given_xi = np.zeros(n)\n",
    "        # print(p_lambda1_given_xi.shape)\n",
    "        # print(p_lambda1_given_xi[0])\n",
    "        for i in range(n):\n",
    "            p_xi_given_lambda1 = poisson_dist(data[i], lambda1) # P(Xi|lambda1)\n",
    "            p_xi_given_lambda2 = poisson_dist(data[i], lambda2)\n",
    "\n",
    "            # print(\"xi|lambdas:\")\n",
    "            # print(p_xi_given_lambda1)\n",
    "            # print(p_xi_given_lambda2)\n",
    "\n",
    "            temp1 = p_fp * p_xi_given_lambda1\n",
    "            temp2 = (1 - p_fp) * p_xi_given_lambda2\n",
    "\n",
    "            p_lambda1_given_xi[i] = temp1 / (temp1 + temp2) # P(lambda1|Xi)\n",
    "            p_lambda1_given_xi = np.clip(p_lambda1_given_xi, epsilon, 1 - epsilon)\n",
    "            # print(\"p_lambda1_given_xi:\")\n",
    "            # print(p_lambda1_given_xi)\n",
    "\n",
    "        #M-step: update and optimize\n",
    "        fp_new = np.sum(p_lambda1_given_xi) / n\n",
    "\n",
    "        lambda1_new = np.sum(p_lambda1_given_xi * data) / np.sum(p_lambda1_given_xi + epsilon)\n",
    "        lambda2_new = np.sum((1 - p_lambda1_given_xi) * data) / np.sum((1 - p_lambda1_given_xi) + epsilon)\n",
    "\n",
    "        # abs1 = np.abs(lambda1_new - lambda1)\n",
    "        # abs2 = np.abs(lambda2_new - lambda2)\n",
    "        # abs3 = np.abs(fp_new - p_fp)\n",
    "\n",
    "        # if abs1 < threshold and abs2 < threshold and abs3 < threshold:\n",
    "        #     break\n",
    "\n",
    "        log_likelihood_new = calc_log_likelihood(data, lambda1_new, lambda2_new, fp_new)\n",
    "        # abs1 = np.abs(log_likelihood_new - log_likelihood)\n",
    "        if log_likelihood is not None and (np.abs(log_likelihood_new - log_likelihood) < threshold):\n",
    "            break\n",
    "\n",
    "        log_likelihood = log_likelihood_new\n",
    "\n",
    "        lambda1 = lambda1_new\n",
    "        lambda2 = lambda2_new\n",
    "        p_fp = fp_new\n",
    "\n",
    "    return lambda1, lambda2, p_fp, it_actual"
   ]
  },
  {
   "cell_type": "code",
   "execution_count": 112,
   "metadata": {},
   "outputs": [],
   "source": [
    "lambda1, lambda2, p_fp, it_actual = em_algo(new_data, lambda1, lambda2, p_fp, log_likelihood, max_it, threshold, 1.0e-6)"
   ]
  },
  {
   "cell_type": "code",
   "execution_count": 113,
   "metadata": {},
   "outputs": [
    {
     "name": "stdout",
     "output_type": "stream",
     "text": [
      "Iterations needed:  155\n",
      " \n",
      "Mean number of children in families with family planning: 1.78\n",
      "Mean number of children in families without family planning: 4.91\n",
      " \n",
      "Proportion of families with family planning: 0.36\n",
      "Proportion of families without family planning: 0.64\n"
     ]
    }
   ],
   "source": [
    "print(\"Iterations needed: \", it_actual)\n",
    "print(\" \")\n",
    "print(f\"Mean number of children in families with family planning: {lambda1:.2f}\")\n",
    "print(f\"Mean number of children in families without family planning: {lambda2:.2f}\")\n",
    "print(\" \")\n",
    "print(f\"Proportion of families with family planning: {p_fp:.2f}\")\n",
    "print(f\"Proportion of families without family planning: {(1 - p_fp):.2f}\")"
   ]
  }
 ],
 "metadata": {
  "kernelspec": {
   "display_name": "Python 3",
   "language": "python",
   "name": "python3"
  },
  "language_info": {
   "name": "python",
   "version": "3.11.2"
  }
 },
 "nbformat": 4,
 "nbformat_minor": 2
}
